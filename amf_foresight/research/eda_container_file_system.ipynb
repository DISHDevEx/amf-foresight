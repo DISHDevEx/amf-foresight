{
 "cells": [
  {
   "cell_type": "code",
   "execution_count": 2,
   "id": "7b70ccaa-e750-46c4-9dcd-571c29dddb6e",
   "metadata": {
    "tags": []
   },
   "outputs": [],
   "source": [
    "import os\n",
    "os.chdir('/root/amf-foresight/amf_foresight')\n",
    "from eda import EDA\n",
    "from load_data import AMFDataProcessor\n",
    "from feature_engineering import FeatureEngineer\n",
    "from setup_logger import setup_logger\n",
    "import pyspark.sql.functions as F\n",
    "eda = EDA()\n",
    "load = AMFDataProcessor()\n",
    "feature = FeatureEngineer()"
   ]
  },
  {
   "cell_type": "code",
   "execution_count": 3,
   "id": "04f460eb-8a40-4f85-9038-00526a5ed8a6",
   "metadata": {
    "tags": []
   },
   "outputs": [
    {
     "name": "stderr",
     "output_type": "stream",
     "text": [
      "/opt/conda/lib/python3.7/site-packages/pyspark/context.py:317: FutureWarning: Python 3.7 support is deprecated in Spark 3.4.\n",
      "  warnings.warn(\"Python 3.7 support is deprecated in Spark 3.4.\", FutureWarning)\n"
     ]
    },
    {
     "name": "stdout",
     "output_type": "stream",
     "text": [
      "Nested_Json_Connector initialized with the following s3_file_path:jsons/01H29WR2YRH6C4ZRJ2HZW8PBYQ-Copy1.json\n"
     ]
    }
   ],
   "source": [
    "spark = load.get_all_data('jsons/01H29WR2YRH6C4ZRJ2HZW8PBYQ-Copy1.json')"
   ]
  },
  {
   "cell_type": "markdown",
   "id": "4e5b6b2b-9a8b-409f-b77b-2711e7a4952e",
   "metadata": {
    "tags": []
   },
   "source": [
    "## Container: File System"
   ]
  },
  {
   "cell_type": "markdown",
   "id": "11005930-b971-4dc5-9629-1e5e1c1e38a2",
   "metadata": {
    "tags": []
   },
   "source": [
    "## container_fs_reads_total (Count of reads completed)(Units: Count)"
   ]
  },
  {
   "cell_type": "code",
   "execution_count": 4,
   "id": "75812b1c-c525-4f33-8944-cee519fead84",
   "metadata": {
    "tags": []
   },
   "outputs": [],
   "source": [
    "transform_spark = load. transform_dataframe(spark, 'container_fs_reads_bytes_total')"
   ]
  },
  {
   "cell_type": "code",
   "execution_count": 5,
   "id": "bc343eb8-dd30-4459-9e2a-bac3b747542f",
   "metadata": {},
   "outputs": [
    {
     "data": {
      "text/plain": [
       "[Row(metric_pod='open5gs-populate-8684cb9fff-jnp9j'),\n",
       " Row(metric_pod='open5gs-nrf-9c84f89f9-dr7mj'),\n",
       " Row(metric_pod='open5gs-udr-5c7799bcd7-9pjbc'),\n",
       " Row(metric_pod='open5gs-webui-675fdfcb46-bsgff'),\n",
       " Row(metric_pod='open5gs-upf-7756b89795-824wb'),\n",
       " Row(metric_pod='open5gs-udm-6465f98d46-qfwc7'),\n",
       " Row(metric_pod='open5gs-smf-7f94db58f7-c6qsd'),\n",
       " Row(metric_pod='open5gs-mongodb-68947c4874-sl8sr'),\n",
       " Row(metric_pod='open5gs-pcf-bbdc99f79-c5x7g'),\n",
       " Row(metric_pod='open5gs-ausf-6776cbc558-ljrx5')]"
      ]
     },
     "execution_count": 5,
     "metadata": {},
     "output_type": "execute_result"
    }
   ],
   "source": [
    "transform_spark.select('metric_pod').distinct().collect()"
   ]
  },
  {
   "cell_type": "code",
   "execution_count": 6,
   "id": "44a200a2-5f5d-4edf-8460-85860509acb4",
   "metadata": {
    "tags": []
   },
   "outputs": [
    {
     "name": "stdout",
     "output_type": "stream",
     "text": [
      "+--------------------+--------------------+--------------------+--------------------+----------------+--------------------+--------------------+--------------------+----------------+\n",
      "|          timestamps|     metric___name__|              values|          metric_pod|metric_container|         metric_name|        metric_image|           metric_id|metric_namespace|\n",
      "+--------------------+--------------------+--------------------+--------------------+----------------+--------------------+--------------------+--------------------+----------------+\n",
      "|[1686096000594, 1...|container_fs_read...|[7004160.0, 70041...|open5gs-mongodb-6...|         mongodb|938e007186468c29d...|docker.io/bitnami...|/kubepods.slice/k...|       openverso|\n",
      "|[1686099605010, 1...|container_fs_read...|[7004160.0, 70041...|open5gs-mongodb-6...|         mongodb|938e007186468c29d...|docker.io/bitnami...|/kubepods.slice/k...|       openverso|\n",
      "|[1686096000594, 1...|container_fs_read...|[45056.0, 45056.0...|open5gs-mongodb-6...|         mongodb|938e007186468c29d...|docker.io/bitnami...|/kubepods.slice/k...|       openverso|\n",
      "|[1686099605010, 1...|container_fs_read...|[45056.0, 45056.0...|open5gs-mongodb-6...|         mongodb|938e007186468c29d...|docker.io/bitnami...|/kubepods.slice/k...|       openverso|\n",
      "|[1686096008550, 1...|container_fs_read...|[65536.0, 65536.0...|open5gs-ausf-6776...|    open5gs-ausf|c33ec862a0ba355d0...|docker.io/openver...|/kubepods.slice/k...|       openverso|\n",
      "|[1686099632448, 1...|container_fs_read...|[65536.0, 65536.0...|open5gs-ausf-6776...|    open5gs-ausf|c33ec862a0ba355d0...|docker.io/openver...|/kubepods.slice/k...|       openverso|\n",
      "|[1686096000747, 1...|container_fs_read...|[6299648.0, 62996...|open5gs-nrf-9c84f...|     open5gs-nrf|9582151255301c81c...|docker.io/openver...|/kubepods.slice/k...|       openverso|\n",
      "|[1686099601134, 1...|container_fs_read...|[6299648.0, 62996...|open5gs-nrf-9c84f...|     open5gs-nrf|9582151255301c81c...|docker.io/openver...|/kubepods.slice/k...|       openverso|\n",
      "|[1686096030954, 1...|container_fs_read...|[4661248.0, 46612...|open5gs-pcf-bbdc9...|     open5gs-pcf|24a0414a22df42c15...|docker.io/openver...|/kubepods.slice/k...|       openverso|\n",
      "|[1686099638102, 1...|container_fs_read...|[4661248.0, 46612...|open5gs-pcf-bbdc9...|     open5gs-pcf|24a0414a22df42c15...|docker.io/openver...|/kubepods.slice/k...|       openverso|\n",
      "|[1686096009397, 1...|container_fs_read...|[827392.0, 827392...|open5gs-smf-7f94d...|     open5gs-smf|2e77536d755a325fc...|docker.io/openver...|/kubepods.slice/k...|       openverso|\n",
      "|[1686099634322, 1...|container_fs_read...|[827392.0, 827392...|open5gs-smf-7f94d...|     open5gs-smf|2e77536d755a325fc...|docker.io/openver...|/kubepods.slice/k...|       openverso|\n",
      "|[1686096008356, 1...|container_fs_read...|[548864.0, 548864...|open5gs-udm-6465f...|     open5gs-udm|6185ee49249670731...|docker.io/openver...|/kubepods.slice/k...|       openverso|\n",
      "|[1686099608071, 1...|container_fs_read...|[548864.0, 548864...|open5gs-udm-6465f...|     open5gs-udm|6185ee49249670731...|docker.io/openver...|/kubepods.slice/k...|       openverso|\n",
      "|[1686096033675, 1...|container_fs_read...|[2801664.0, 28016...|open5gs-udr-5c779...|     open5gs-udr|7532df6056ca0dd95...|docker.io/openver...|/kubepods.slice/k...|       openverso|\n",
      "|[1686099635000, 1...|container_fs_read...|[2801664.0, 28016...|open5gs-udr-5c779...|     open5gs-udr|7532df6056ca0dd95...|docker.io/openver...|/kubepods.slice/k...|       openverso|\n",
      "|[1686096026298, 1...|container_fs_read...|[4009984.0, 40099...|open5gs-upf-7756b...|     open5gs-upf|955539acfc6b02c35...|docker.io/openver...|/kubepods.slice/k...|       openverso|\n",
      "|[1686099639406, 1...|container_fs_read...|[4009984.0, 40099...|open5gs-upf-7756b...|     open5gs-upf|955539acfc6b02c35...|docker.io/openver...|/kubepods.slice/k...|       openverso|\n",
      "|[1686096007140, 1...|container_fs_read...|[614400.0, 614400...|open5gs-populate-...|        populate|9017f3f580a19db1a...|docker.io/openver...|/kubepods.slice/k...|       openverso|\n",
      "|[1686099631164, 1...|container_fs_read...|[614400.0, 614400...|open5gs-populate-...|        populate|9017f3f580a19db1a...|docker.io/openver...|/kubepods.slice/k...|       openverso|\n",
      "+--------------------+--------------------+--------------------+--------------------+----------------+--------------------+--------------------+--------------------+----------------+\n",
      "only showing top 20 rows\n",
      "\n"
     ]
    }
   ],
   "source": [
    "transform_spark.select('timestamps', 'metric___name__', 'values', 'metric_pod', 'metric_container', 'metric_name', 'metric_image', 'metric_id', 'metric_namespace').show()"
   ]
  },
  {
   "cell_type": "code",
   "execution_count": null,
   "id": "796b92b1-b333-41f8-9099-73bc28e74b79",
   "metadata": {},
   "outputs": [],
   "source": []
  },
  {
   "cell_type": "code",
   "execution_count": null,
   "id": "142ef428-2122-4f65-9352-e0b304163065",
   "metadata": {},
   "outputs": [],
   "source": []
  },
  {
   "cell_type": "code",
   "execution_count": null,
   "id": "c901269f-3aac-4859-a6ef-c713ee94c60d",
   "metadata": {},
   "outputs": [],
   "source": []
  }
 ],
 "metadata": {
  "availableInstances": [
   {
    "_defaultOrder": 0,
    "_isFastLaunch": true,
    "category": "General purpose",
    "gpuNum": 0,
    "hideHardwareSpecs": false,
    "memoryGiB": 4,
    "name": "ml.t3.medium",
    "vcpuNum": 2
   },
   {
    "_defaultOrder": 1,
    "_isFastLaunch": false,
    "category": "General purpose",
    "gpuNum": 0,
    "hideHardwareSpecs": false,
    "memoryGiB": 8,
    "name": "ml.t3.large",
    "vcpuNum": 2
   },
   {
    "_defaultOrder": 2,
    "_isFastLaunch": false,
    "category": "General purpose",
    "gpuNum": 0,
    "hideHardwareSpecs": false,
    "memoryGiB": 16,
    "name": "ml.t3.xlarge",
    "vcpuNum": 4
   },
   {
    "_defaultOrder": 3,
    "_isFastLaunch": false,
    "category": "General purpose",
    "gpuNum": 0,
    "hideHardwareSpecs": false,
    "memoryGiB": 32,
    "name": "ml.t3.2xlarge",
    "vcpuNum": 8
   },
   {
    "_defaultOrder": 4,
    "_isFastLaunch": true,
    "category": "General purpose",
    "gpuNum": 0,
    "hideHardwareSpecs": false,
    "memoryGiB": 8,
    "name": "ml.m5.large",
    "vcpuNum": 2
   },
   {
    "_defaultOrder": 5,
    "_isFastLaunch": false,
    "category": "General purpose",
    "gpuNum": 0,
    "hideHardwareSpecs": false,
    "memoryGiB": 16,
    "name": "ml.m5.xlarge",
    "vcpuNum": 4
   },
   {
    "_defaultOrder": 6,
    "_isFastLaunch": false,
    "category": "General purpose",
    "gpuNum": 0,
    "hideHardwareSpecs": false,
    "memoryGiB": 32,
    "name": "ml.m5.2xlarge",
    "vcpuNum": 8
   },
   {
    "_defaultOrder": 7,
    "_isFastLaunch": false,
    "category": "General purpose",
    "gpuNum": 0,
    "hideHardwareSpecs": false,
    "memoryGiB": 64,
    "name": "ml.m5.4xlarge",
    "vcpuNum": 16
   },
   {
    "_defaultOrder": 8,
    "_isFastLaunch": false,
    "category": "General purpose",
    "gpuNum": 0,
    "hideHardwareSpecs": false,
    "memoryGiB": 128,
    "name": "ml.m5.8xlarge",
    "vcpuNum": 32
   },
   {
    "_defaultOrder": 9,
    "_isFastLaunch": false,
    "category": "General purpose",
    "gpuNum": 0,
    "hideHardwareSpecs": false,
    "memoryGiB": 192,
    "name": "ml.m5.12xlarge",
    "vcpuNum": 48
   },
   {
    "_defaultOrder": 10,
    "_isFastLaunch": false,
    "category": "General purpose",
    "gpuNum": 0,
    "hideHardwareSpecs": false,
    "memoryGiB": 256,
    "name": "ml.m5.16xlarge",
    "vcpuNum": 64
   },
   {
    "_defaultOrder": 11,
    "_isFastLaunch": false,
    "category": "General purpose",
    "gpuNum": 0,
    "hideHardwareSpecs": false,
    "memoryGiB": 384,
    "name": "ml.m5.24xlarge",
    "vcpuNum": 96
   },
   {
    "_defaultOrder": 12,
    "_isFastLaunch": false,
    "category": "General purpose",
    "gpuNum": 0,
    "hideHardwareSpecs": false,
    "memoryGiB": 8,
    "name": "ml.m5d.large",
    "vcpuNum": 2
   },
   {
    "_defaultOrder": 13,
    "_isFastLaunch": false,
    "category": "General purpose",
    "gpuNum": 0,
    "hideHardwareSpecs": false,
    "memoryGiB": 16,
    "name": "ml.m5d.xlarge",
    "vcpuNum": 4
   },
   {
    "_defaultOrder": 14,
    "_isFastLaunch": false,
    "category": "General purpose",
    "gpuNum": 0,
    "hideHardwareSpecs": false,
    "memoryGiB": 32,
    "name": "ml.m5d.2xlarge",
    "vcpuNum": 8
   },
   {
    "_defaultOrder": 15,
    "_isFastLaunch": false,
    "category": "General purpose",
    "gpuNum": 0,
    "hideHardwareSpecs": false,
    "memoryGiB": 64,
    "name": "ml.m5d.4xlarge",
    "vcpuNum": 16
   },
   {
    "_defaultOrder": 16,
    "_isFastLaunch": false,
    "category": "General purpose",
    "gpuNum": 0,
    "hideHardwareSpecs": false,
    "memoryGiB": 128,
    "name": "ml.m5d.8xlarge",
    "vcpuNum": 32
   },
   {
    "_defaultOrder": 17,
    "_isFastLaunch": false,
    "category": "General purpose",
    "gpuNum": 0,
    "hideHardwareSpecs": false,
    "memoryGiB": 192,
    "name": "ml.m5d.12xlarge",
    "vcpuNum": 48
   },
   {
    "_defaultOrder": 18,
    "_isFastLaunch": false,
    "category": "General purpose",
    "gpuNum": 0,
    "hideHardwareSpecs": false,
    "memoryGiB": 256,
    "name": "ml.m5d.16xlarge",
    "vcpuNum": 64
   },
   {
    "_defaultOrder": 19,
    "_isFastLaunch": false,
    "category": "General purpose",
    "gpuNum": 0,
    "hideHardwareSpecs": false,
    "memoryGiB": 384,
    "name": "ml.m5d.24xlarge",
    "vcpuNum": 96
   },
   {
    "_defaultOrder": 20,
    "_isFastLaunch": false,
    "category": "General purpose",
    "gpuNum": 0,
    "hideHardwareSpecs": true,
    "memoryGiB": 0,
    "name": "ml.geospatial.interactive",
    "supportedImageNames": [
     "sagemaker-geospatial-v1-0"
    ],
    "vcpuNum": 0
   },
   {
    "_defaultOrder": 21,
    "_isFastLaunch": true,
    "category": "Compute optimized",
    "gpuNum": 0,
    "hideHardwareSpecs": false,
    "memoryGiB": 4,
    "name": "ml.c5.large",
    "vcpuNum": 2
   },
   {
    "_defaultOrder": 22,
    "_isFastLaunch": false,
    "category": "Compute optimized",
    "gpuNum": 0,
    "hideHardwareSpecs": false,
    "memoryGiB": 8,
    "name": "ml.c5.xlarge",
    "vcpuNum": 4
   },
   {
    "_defaultOrder": 23,
    "_isFastLaunch": false,
    "category": "Compute optimized",
    "gpuNum": 0,
    "hideHardwareSpecs": false,
    "memoryGiB": 16,
    "name": "ml.c5.2xlarge",
    "vcpuNum": 8
   },
   {
    "_defaultOrder": 24,
    "_isFastLaunch": false,
    "category": "Compute optimized",
    "gpuNum": 0,
    "hideHardwareSpecs": false,
    "memoryGiB": 32,
    "name": "ml.c5.4xlarge",
    "vcpuNum": 16
   },
   {
    "_defaultOrder": 25,
    "_isFastLaunch": false,
    "category": "Compute optimized",
    "gpuNum": 0,
    "hideHardwareSpecs": false,
    "memoryGiB": 72,
    "name": "ml.c5.9xlarge",
    "vcpuNum": 36
   },
   {
    "_defaultOrder": 26,
    "_isFastLaunch": false,
    "category": "Compute optimized",
    "gpuNum": 0,
    "hideHardwareSpecs": false,
    "memoryGiB": 96,
    "name": "ml.c5.12xlarge",
    "vcpuNum": 48
   },
   {
    "_defaultOrder": 27,
    "_isFastLaunch": false,
    "category": "Compute optimized",
    "gpuNum": 0,
    "hideHardwareSpecs": false,
    "memoryGiB": 144,
    "name": "ml.c5.18xlarge",
    "vcpuNum": 72
   },
   {
    "_defaultOrder": 28,
    "_isFastLaunch": false,
    "category": "Compute optimized",
    "gpuNum": 0,
    "hideHardwareSpecs": false,
    "memoryGiB": 192,
    "name": "ml.c5.24xlarge",
    "vcpuNum": 96
   },
   {
    "_defaultOrder": 29,
    "_isFastLaunch": true,
    "category": "Accelerated computing",
    "gpuNum": 1,
    "hideHardwareSpecs": false,
    "memoryGiB": 16,
    "name": "ml.g4dn.xlarge",
    "vcpuNum": 4
   },
   {
    "_defaultOrder": 30,
    "_isFastLaunch": false,
    "category": "Accelerated computing",
    "gpuNum": 1,
    "hideHardwareSpecs": false,
    "memoryGiB": 32,
    "name": "ml.g4dn.2xlarge",
    "vcpuNum": 8
   },
   {
    "_defaultOrder": 31,
    "_isFastLaunch": false,
    "category": "Accelerated computing",
    "gpuNum": 1,
    "hideHardwareSpecs": false,
    "memoryGiB": 64,
    "name": "ml.g4dn.4xlarge",
    "vcpuNum": 16
   },
   {
    "_defaultOrder": 32,
    "_isFastLaunch": false,
    "category": "Accelerated computing",
    "gpuNum": 1,
    "hideHardwareSpecs": false,
    "memoryGiB": 128,
    "name": "ml.g4dn.8xlarge",
    "vcpuNum": 32
   },
   {
    "_defaultOrder": 33,
    "_isFastLaunch": false,
    "category": "Accelerated computing",
    "gpuNum": 4,
    "hideHardwareSpecs": false,
    "memoryGiB": 192,
    "name": "ml.g4dn.12xlarge",
    "vcpuNum": 48
   },
   {
    "_defaultOrder": 34,
    "_isFastLaunch": false,
    "category": "Accelerated computing",
    "gpuNum": 1,
    "hideHardwareSpecs": false,
    "memoryGiB": 256,
    "name": "ml.g4dn.16xlarge",
    "vcpuNum": 64
   },
   {
    "_defaultOrder": 35,
    "_isFastLaunch": false,
    "category": "Accelerated computing",
    "gpuNum": 1,
    "hideHardwareSpecs": false,
    "memoryGiB": 61,
    "name": "ml.p3.2xlarge",
    "vcpuNum": 8
   },
   {
    "_defaultOrder": 36,
    "_isFastLaunch": false,
    "category": "Accelerated computing",
    "gpuNum": 4,
    "hideHardwareSpecs": false,
    "memoryGiB": 244,
    "name": "ml.p3.8xlarge",
    "vcpuNum": 32
   },
   {
    "_defaultOrder": 37,
    "_isFastLaunch": false,
    "category": "Accelerated computing",
    "gpuNum": 8,
    "hideHardwareSpecs": false,
    "memoryGiB": 488,
    "name": "ml.p3.16xlarge",
    "vcpuNum": 64
   },
   {
    "_defaultOrder": 38,
    "_isFastLaunch": false,
    "category": "Accelerated computing",
    "gpuNum": 8,
    "hideHardwareSpecs": false,
    "memoryGiB": 768,
    "name": "ml.p3dn.24xlarge",
    "vcpuNum": 96
   },
   {
    "_defaultOrder": 39,
    "_isFastLaunch": false,
    "category": "Memory Optimized",
    "gpuNum": 0,
    "hideHardwareSpecs": false,
    "memoryGiB": 16,
    "name": "ml.r5.large",
    "vcpuNum": 2
   },
   {
    "_defaultOrder": 40,
    "_isFastLaunch": false,
    "category": "Memory Optimized",
    "gpuNum": 0,
    "hideHardwareSpecs": false,
    "memoryGiB": 32,
    "name": "ml.r5.xlarge",
    "vcpuNum": 4
   },
   {
    "_defaultOrder": 41,
    "_isFastLaunch": false,
    "category": "Memory Optimized",
    "gpuNum": 0,
    "hideHardwareSpecs": false,
    "memoryGiB": 64,
    "name": "ml.r5.2xlarge",
    "vcpuNum": 8
   },
   {
    "_defaultOrder": 42,
    "_isFastLaunch": false,
    "category": "Memory Optimized",
    "gpuNum": 0,
    "hideHardwareSpecs": false,
    "memoryGiB": 128,
    "name": "ml.r5.4xlarge",
    "vcpuNum": 16
   },
   {
    "_defaultOrder": 43,
    "_isFastLaunch": false,
    "category": "Memory Optimized",
    "gpuNum": 0,
    "hideHardwareSpecs": false,
    "memoryGiB": 256,
    "name": "ml.r5.8xlarge",
    "vcpuNum": 32
   },
   {
    "_defaultOrder": 44,
    "_isFastLaunch": false,
    "category": "Memory Optimized",
    "gpuNum": 0,
    "hideHardwareSpecs": false,
    "memoryGiB": 384,
    "name": "ml.r5.12xlarge",
    "vcpuNum": 48
   },
   {
    "_defaultOrder": 45,
    "_isFastLaunch": false,
    "category": "Memory Optimized",
    "gpuNum": 0,
    "hideHardwareSpecs": false,
    "memoryGiB": 512,
    "name": "ml.r5.16xlarge",
    "vcpuNum": 64
   },
   {
    "_defaultOrder": 46,
    "_isFastLaunch": false,
    "category": "Memory Optimized",
    "gpuNum": 0,
    "hideHardwareSpecs": false,
    "memoryGiB": 768,
    "name": "ml.r5.24xlarge",
    "vcpuNum": 96
   },
   {
    "_defaultOrder": 47,
    "_isFastLaunch": false,
    "category": "Accelerated computing",
    "gpuNum": 1,
    "hideHardwareSpecs": false,
    "memoryGiB": 16,
    "name": "ml.g5.xlarge",
    "vcpuNum": 4
   },
   {
    "_defaultOrder": 48,
    "_isFastLaunch": false,
    "category": "Accelerated computing",
    "gpuNum": 1,
    "hideHardwareSpecs": false,
    "memoryGiB": 32,
    "name": "ml.g5.2xlarge",
    "vcpuNum": 8
   },
   {
    "_defaultOrder": 49,
    "_isFastLaunch": false,
    "category": "Accelerated computing",
    "gpuNum": 1,
    "hideHardwareSpecs": false,
    "memoryGiB": 64,
    "name": "ml.g5.4xlarge",
    "vcpuNum": 16
   },
   {
    "_defaultOrder": 50,
    "_isFastLaunch": false,
    "category": "Accelerated computing",
    "gpuNum": 1,
    "hideHardwareSpecs": false,
    "memoryGiB": 128,
    "name": "ml.g5.8xlarge",
    "vcpuNum": 32
   },
   {
    "_defaultOrder": 51,
    "_isFastLaunch": false,
    "category": "Accelerated computing",
    "gpuNum": 1,
    "hideHardwareSpecs": false,
    "memoryGiB": 256,
    "name": "ml.g5.16xlarge",
    "vcpuNum": 64
   },
   {
    "_defaultOrder": 52,
    "_isFastLaunch": false,
    "category": "Accelerated computing",
    "gpuNum": 4,
    "hideHardwareSpecs": false,
    "memoryGiB": 192,
    "name": "ml.g5.12xlarge",
    "vcpuNum": 48
   },
   {
    "_defaultOrder": 53,
    "_isFastLaunch": false,
    "category": "Accelerated computing",
    "gpuNum": 4,
    "hideHardwareSpecs": false,
    "memoryGiB": 384,
    "name": "ml.g5.24xlarge",
    "vcpuNum": 96
   },
   {
    "_defaultOrder": 54,
    "_isFastLaunch": false,
    "category": "Accelerated computing",
    "gpuNum": 8,
    "hideHardwareSpecs": false,
    "memoryGiB": 768,
    "name": "ml.g5.48xlarge",
    "vcpuNum": 192
   },
   {
    "_defaultOrder": 55,
    "_isFastLaunch": false,
    "category": "Accelerated computing",
    "gpuNum": 8,
    "hideHardwareSpecs": false,
    "memoryGiB": 1152,
    "name": "ml.p4d.24xlarge",
    "vcpuNum": 96
   },
   {
    "_defaultOrder": 56,
    "_isFastLaunch": false,
    "category": "Accelerated computing",
    "gpuNum": 8,
    "hideHardwareSpecs": false,
    "memoryGiB": 1152,
    "name": "ml.p4de.24xlarge",
    "vcpuNum": 96
   }
  ],
  "instance_type": "ml.t3.xlarge",
  "kernelspec": {
   "display_name": "Python 3 (Data Science)",
   "language": "python",
   "name": "python3__SAGEMAKER_INTERNAL__arn:aws:sagemaker:us-east-1:081325390199:image/datascience-1.0"
  },
  "language_info": {
   "codemirror_mode": {
    "name": "ipython",
    "version": 3
   },
   "file_extension": ".py",
   "mimetype": "text/x-python",
   "name": "python",
   "nbconvert_exporter": "python",
   "pygments_lexer": "ipython3",
   "version": "3.7.10"
  }
 },
 "nbformat": 4,
 "nbformat_minor": 5
}
